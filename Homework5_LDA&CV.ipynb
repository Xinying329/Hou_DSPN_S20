{
 "cells": [
  {
   "cell_type": "markdown",
   "metadata": {},
   "source": [
    "# Homework 5: \n",
    "\n",
    "**DUE:** 5pm EST, March 17, 2020\n",
    "\n",
    "<br>\n",
    "\n",
    "### **Conceptual:** Short answer questions. Be concise"
   ]
  },
  {
   "cell_type": "markdown",
   "metadata": {},
   "source": [
    "---\n",
    "\n",
    "1. Suppose that we have a dataset with five predictors, $X_1 = GPA$, $X_2 = IQ$, $X_3 = Gender$ (1 for Female and 0 for Male), $X_4$ = Interaction between GPA and IQ, and $X_5$ = Interaction between GPA and Gender. The response variable ($Y$) is starting salary after graduation (in thousands of dollars). Suppose we use least squares to fit the model, and get $\\hat{\\beta_0}$ =50, $\\hat{\\beta_1}$ =20, $\\hat{\\beta_2}$ =0.07, $\\hat{\\beta_3}$ =35, $\\hat{\\beta_4}$ =0.01, $\\hat{\\beta_5}$ =-10.\n",
    "\n",
    "<br>\n",
    "    \n",
    "_(a) Which answer is correct, and why?_\n",
    "\n",
    "i. For a fixed value of IQ and GPA, males earn more on average than females.\n",
    "\n",
    "ii. For a fixed value of IQ and GPA, females earn more on average than males.\n",
    "\n",
    "iii. For a fixed value of IQ and GPA, males earn more on average than females provided that the GPA is high enough.\n",
    "\n",
    "iv. For a fixed value of IQ and GPA, females earn more on average than males provided that the GPA is high enough."
   ]
  },
  {
   "cell_type": "markdown",
   "metadata": {},
   "source": [
    "**Answer:**\n",
    "iii is correct.\n",
    "The interaction coefficient about $gpa*gender$ is $-10*gpa*gender$ for women.\n",
    "So when iq is 100:\n",
    "- Ywomen = $(50+35)$ + $(20+1-10)*gpa = 92+11*gpa$\n",
    "- Ymen = $(50+7)$ + $(20+1)*gpa = 57+21*gpa$\n",
    "<br>As you can see, men tend to earn higher than women when gpa is higher than 3.5.</br>"
   ]
  },
  {
   "cell_type": "markdown",
   "metadata": {},
   "source": [
    "<br>\n",
    "\n",
    "_(b) Predict the salary of a female graduate with IQ of 110 and a GPA of 4.0._\n"
   ]
  },
  {
   "cell_type": "markdown",
   "metadata": {},
   "source": [
    "**Answer:**\n",
    "<br> Ywomen = 137.1 </br>\n"
   ]
  },
  {
   "cell_type": "markdown",
   "metadata": {},
   "source": [
    "<br>\n",
    "\n",
    "_(c) True or false: Since the coefficient for the GPA/IQ interaction term is very small, there is very little evidence of an interaction effect. Justify your answer._"
   ]
  },
  {
   "cell_type": "markdown",
   "metadata": {},
   "source": [
    "**Answer:**\n",
    "False, it's depends on the p-value rather than the coefficient itself."
   ]
  },
  {
   "cell_type": "markdown",
   "metadata": {},
   "source": [
    "---\n",
    "\n",
    "2. What are high leverage observations? How do they impact your model fits? What assumption of linear regression do they violate?"
   ]
  },
  {
   "cell_type": "markdown",
   "metadata": {},
   "source": [
    "**Answer:**\n",
    "High leverage observations are those observations that be made at outlying values of the independent variables with less neighbors. However, they have big impact on the estimated model with other observations.\n",
    "This one violates the assumption that observations should be distributed in a reasonable way."
   ]
  },
  {
   "cell_type": "markdown",
   "metadata": {},
   "source": [
    "---\n",
    "\n",
    "3. A linear mixed effect model has the form $Y = X\\beta + Z\\upsilon + \\epsilon$. \n",
    "\n",
    "<br>\n",
    "\n",
    "_(a) What are the assumptions about $Z$ and $\\upsilon$ that make this different from using a regular control variable in a simple linear regression model?_"
   ]
  },
  {
   "cell_type": "markdown",
   "metadata": {},
   "source": [
    "**Answer:** \n",
    "- Have interpretable and meaningful relationship to the dependent variable\n",
    "- The cofficient for this variable also can be interpreted and understood based on theory and empirical evidence."
   ]
  },
  {
   "cell_type": "markdown",
   "metadata": {},
   "source": [
    "<br>\n",
    "\n",
    "_(b) What is the objective function for this model (i.e., the function that needs to be minimized to find the optimal parameters) and how is it different than the objective function for the ordinary least squares model?_\n"
   ]
  },
  {
   "cell_type": "markdown",
   "metadata": {},
   "source": [
    "**Answer:**\n",
    "- The linear mixed effects objective function covers the covariance matrix of the random effeect and also adds a penalty factor.\n",
    "- The linear regression objective function only aims at minizing the MSE."
   ]
  },
  {
   "cell_type": "markdown",
   "metadata": {},
   "source": [
    "<br>\n",
    "\n",
    "_(c) What advantage does including a random effects term in your model give you with regards to understanding the fixed effects relationship?_"
   ]
  },
  {
   "cell_type": "markdown",
   "metadata": {},
   "source": [
    "**Answer:**\n",
    "It covers the effects that are not of primary research interest but still might impact on the dependent variable."
   ]
  },
  {
   "cell_type": "markdown",
   "metadata": {},
   "source": [
    "<br>\n",
    "\n",
    "_(d) Which of these variables would be considered random factors?_\n",
    "\n",
    "* Age\n",
    "* Subject ID\n",
    "* Classroom number\n",
    "* Gender\n",
    "* Reaction Time\n",
    "* JPEG image filename\n",
    "* Time of day"
   ]
  },
  {
   "cell_type": "markdown",
   "metadata": {},
   "source": [
    "**Answer:**\n",
    "* Subject ID\n",
    "* Classroom number\n",
    "* JPEG image filename\n",
    "<br>Those are of less meaning to the dependent variable</br>"
   ]
  },
  {
   "cell_type": "markdown",
   "metadata": {},
   "source": [
    "---\n",
    "\n",
    "### **Applied:** Show your code & plots\n",
    "\n",
    "We will use both datasets from the CRAN universe and the HCP dataset for these problems. Include conceptual answers to questions as comments in code cells."
   ]
  },
  {
   "cell_type": "markdown",
   "metadata": {},
   "source": [
    "---\n",
    "\n",
    "4. Load the cbpp dataset from the lme4 library. Run ?cbpp after loading the lme4 library to get information on the dataset.\n",
    "\n",
    "(a) Plot the relationship between herd size and CBPP incidence\n"
   ]
  },
  {
   "cell_type": "code",
   "execution_count": 6,
   "metadata": {},
   "outputs": [
    {
     "name": "stderr",
     "output_type": "stream",
     "text": [
      "also installing the dependency ‘nloptr’\n",
      "\n",
      "Warning message in install.packages(\"lme4\"):\n",
      "“installation of package ‘nloptr’ had non-zero exit status”Warning message in install.packages(\"lme4\"):\n",
      "“installation of package ‘lme4’ had non-zero exit status”Updating HTML index of packages in '.Library'\n",
      "Making 'packages.html' ... done\n"
     ]
    },
    {
     "ename": "ERROR",
     "evalue": "Error in library(lme4): there is no package called ‘lme4’\n",
     "output_type": "error",
     "traceback": [
      "Error in library(lme4): there is no package called ‘lme4’\nTraceback:\n",
      "1. library(lme4)"
     ]
    }
   ],
   "source": [
    "# -------------------------------\n",
    "# Question 4\n",
    "# -------------------------------\n",
    "#install.packages(\"lme4\")\n",
    "library(lme4)\n",
    "?cbpp\n",
    "attach(cbpp)\n",
    "plot(size,incidence)"
   ]
  },
  {
   "cell_type": "markdown",
   "metadata": {},
   "source": [
    "\n",
    "(b) Use the lm function to model the effect of herd size (predictor) on CBPP incidence (response). How does herd size impact disease rate? Report the results of the model.\n"
   ]
  },
  {
   "cell_type": "code",
   "execution_count": 3,
   "metadata": {},
   "outputs": [],
   "source": [
    "# (b)\n",
    "model = lm(incidence~size)\n",
    "summary(model)\n",
    "plot(model)"
   ]
  },
  {
   "cell_type": "markdown",
   "metadata": {},
   "source": [
    "\n",
    "(c) Use the lmer function to include the herd identifier as a random effect. How does this impact the fixed effect of herd size on CBPP incidence?\n"
   ]
  },
  {
   "cell_type": "code",
   "execution_count": 4,
   "metadata": {},
   "outputs": [],
   "source": [
    "# (c)\n",
    "fmodel = lm(incidence~size + (size| herd))\n",
    "summary(fmodel)\n",
    "plot(fmodel)\n"
   ]
  },
  {
   "cell_type": "markdown",
   "metadata": {},
   "source": [
    "\n",
    "(d) Compare the simple linear model (i.e., the fixed effects only model) with the mixed effect model using AIC (https://en.wikipedia.org/wiki/Akaike_information_criterion). Does adding the random effect to the model improve or change the fixed effect?\n"
   ]
  },
  {
   "cell_type": "code",
   "execution_count": 5,
   "metadata": {},
   "outputs": [],
   "source": [
    "# (d)\n",
    "AIC(fmodel,model)"
   ]
  },
  {
   "cell_type": "markdown",
   "metadata": {},
   "source": [
    "---\n",
    "\n",
    "5. Load the HCP dataset.\n",
    "\n",
    "_(a) Make a new data frame that includes the fields for subject ID (Subject), gender (Gender), age (Age), intracranial volume (FS_IntraCranial_Vol), and total gray matter volume (FS_Total_GM_Vol). Load the variables in that order. Remove the _na_'s and z-score the values for intracranial volume and total gray matter volume._"
   ]
  },
  {
   "cell_type": "code",
   "execution_count": 11,
   "metadata": {},
   "outputs": [],
   "source": [
    "# -------------------------------\n",
    "# Question 5\n",
    "# -------------------------------\n",
    "df <- read.csv(\"hcp_data/unrestricted_trimmed_1_7_2020_10_50_44.csv\")\n",
    "library(tidyverse)\n",
    "\n",
    "df <- df %>% select(Subject,Gender,Age,FS_IntraCranial_Vol,FS_Total_GM_Vol) %>% na.omit() \n",
    "df <- df %>% mutate(gmv_zscore = (FS_Total_GM_Vol - mean(FS_Total_GM_Vol))/sd(FS_Total_GM_Vol),\n",
    "                    icv_zscore = (FS_IntraCranial_Vol - mean(FS_IntraCranial_Vol))/sd(FS_IntraCranial_Vol))"
   ]
  },
  {
   "cell_type": "markdown",
   "metadata": {},
   "source": [
    "<br>\n",
    "\n",
    "(b) Take this new dataframe and fit a simple logistic regression model to classify gender based on the intracranial volume measure and examine the model fit using the summary function_\n"
   ]
  },
  {
   "cell_type": "code",
   "execution_count": 12,
   "metadata": {},
   "outputs": [
    {
     "data": {
      "text/plain": [
       "\n",
       "Call:\n",
       "glm(formula = Gender ~ FS_IntraCranial_Vol, family = \"binomial\", \n",
       "    data = df)\n",
       "\n",
       "Deviance Residuals: \n",
       "    Min       1Q   Median       3Q      Max  \n",
       "-2.5646  -0.6769  -0.1836   0.6434   3.5450  \n",
       "\n",
       "Coefficients:\n",
       "                      Estimate Std. Error z value Pr(>|z|)    \n",
       "(Intercept)         -1.885e+01  1.113e+00  -16.94   <2e-16 ***\n",
       "FS_IntraCranial_Vol  1.171e-05  6.934e-07   16.89   <2e-16 ***\n",
       "---\n",
       "Signif. codes:  0 ‘***’ 0.001 ‘**’ 0.01 ‘*’ 0.05 ‘.’ 0.1 ‘ ’ 1\n",
       "\n",
       "(Dispersion parameter for binomial family taken to be 1)\n",
       "\n",
       "    Null deviance: 1534.13  on 1112  degrees of freedom\n",
       "Residual deviance:  968.67  on 1111  degrees of freedom\n",
       "AIC: 972.67\n",
       "\n",
       "Number of Fisher Scoring iterations: 5\n"
      ]
     },
     "metadata": {},
     "output_type": "display_data"
    }
   ],
   "source": [
    "# (b)\n",
    "glm_model <- glm(Gender ~ FS_IntraCranial_Vol,data = df, family = \"binomial\")\n",
    "summary(glm_model)"
   ]
  },
  {
   "cell_type": "markdown",
   "metadata": {},
   "source": [
    "<br>\n",
    "\n",
    "(c) Calculate the confusion matrix for evaluating how well the model can classify the dataset and find the classification accuracy for the logistic regression model. Report the classification accuracy.\n",
    "\n",
    "**Note:** Be careful to take note how R automatically codes Gender and make sure your labels are matched accordingly.\n"
   ]
  },
  {
   "cell_type": "code",
   "execution_count": 34,
   "metadata": {},
   "outputs": [],
   "source": [
    "# (c)\n",
    "threshold = 0.5\n",
    "predict <- data.frame(predict(glm_model,type=\"response\"))\n",
    "predict$gender_pre <- rep(\"F\",nrow(predict)) \n",
    "predict$gender_pre[predict$predict.glm_model..type....response..>threshold] = \"M\"\n",
    "confusion_matrix <- data.frame(predict$gender_pre,df$Gender)"
   ]
  },
  {
   "cell_type": "code",
   "execution_count": 35,
   "metadata": {},
   "outputs": [
    {
     "data": {
      "text/plain": [
       "                  df.Gender\n",
       "predict.gender_pre   F   M\n",
       "                 F 506 113\n",
       "                 M 100 394"
      ]
     },
     "metadata": {},
     "output_type": "display_data"
    },
    {
     "data": {
      "text/html": [
       "0.808625336927224"
      ],
      "text/latex": [
       "0.808625336927224"
      ],
      "text/markdown": [
       "0.808625336927224"
      ],
      "text/plain": [
       "[1] 0.8086253"
      ]
     },
     "metadata": {},
     "output_type": "display_data"
    }
   ],
   "source": [
    "matrix = table(confusion_matrix)\n",
    "accuracy = sum(diag(matrix))/sum(matrix)\n",
    "matrix\n",
    "accuracy"
   ]
  },
  {
   "cell_type": "markdown",
   "metadata": {},
   "source": [
    "<br>\n",
    "\n",
    "(d) Using the _boot_ library, calculate the leave one out cross-validation (LOOCV) for the same model you fit in (b)."
   ]
  },
  {
   "cell_type": "code",
   "execution_count": 27,
   "metadata": {},
   "outputs": [],
   "source": [
    "# (d)\n",
    "#install.packages(\"boot\")\n",
    "library(boot)\n",
    "set.seed(123)\n",
    "k = nrow(df)\n",
    "LOOCV<- cv.glm(df,glm_model,K=k)"
   ]
  },
  {
   "cell_type": "code",
   "execution_count": 29,
   "metadata": {},
   "outputs": [
    {
     "data": {
      "text/html": [
       "<ol class=list-inline>\n",
       "\t<li>0.136790098816272</li>\n",
       "\t<li>0.136789845611662</li>\n",
       "</ol>\n"
      ],
      "text/latex": [
       "\\begin{enumerate*}\n",
       "\\item 0.136790098816272\n",
       "\\item 0.136789845611662\n",
       "\\end{enumerate*}\n"
      ],
      "text/markdown": [
       "1. 0.136790098816272\n",
       "2. 0.136789845611662\n",
       "\n",
       "\n"
      ],
      "text/plain": [
       "[1] 0.1367901 0.1367898"
      ]
     },
     "metadata": {},
     "output_type": "display_data"
    }
   ],
   "source": [
    "LOOCV$delta"
   ]
  },
  {
   "cell_type": "markdown",
   "metadata": {},
   "source": [
    "<br>\n",
    "\n",
    "(e) Now test the k-fold cross validation accuracy using K=10. Is this better, worse, or the same than the LOCCV accuracy?"
   ]
  },
  {
   "cell_type": "code",
   "execution_count": 30,
   "metadata": {},
   "outputs": [
    {
     "data": {
      "text/html": [
       "<ol class=list-inline>\n",
       "\t<li>0.136812803305162</li>\n",
       "\t<li>0.136787053332281</li>\n",
       "</ol>\n"
      ],
      "text/latex": [
       "\\begin{enumerate*}\n",
       "\\item 0.136812803305162\n",
       "\\item 0.136787053332281\n",
       "\\end{enumerate*}\n"
      ],
      "text/markdown": [
       "1. 0.136812803305162\n",
       "2. 0.136787053332281\n",
       "\n",
       "\n"
      ],
      "text/plain": [
       "[1] 0.1368128 0.1367871"
      ]
     },
     "metadata": {},
     "output_type": "display_data"
    }
   ],
   "source": [
    "# (e)\n",
    "cv<-cv.glm(df,glm_model,K=10)\n",
    "cv$delta"
   ]
  },
  {
   "cell_type": "markdown",
   "metadata": {},
   "source": [
    "(f) Finally, fit a LDA model with the same variables and plot the model fit. Make sure you load the MASS library to use the lda function. What's the classification accuracy of the LDA model?"
   ]
  },
  {
   "cell_type": "code",
   "execution_count": 33,
   "metadata": {},
   "outputs": [
    {
     "data": {
      "image/png": "[encoded data removed]",
      "text/plain": [
       "plot without title"
      ]
     },
     "metadata": {},
     "output_type": "display_data"
    }
   ],
   "source": [
    "# (f)\n",
    "library(MASS)\n",
    "lda<- lda(Gender~FS_IntraCranial_Vol,data=df)\n",
    "plot(lda)"
   ]
  }
 ],
 "metadata": {
  "kernelspec": {
   "display_name": "R",
   "language": "R",
   "name": "ir"
  },
  "language_info": {
   "codemirror_mode": "r",
   "file_extension": ".r",
   "mimetype": "text/x-r-source",
   "name": "R",
   "pygments_lexer": "r",
   "version": "3.6.1"
  }
 },
 "nbformat": 4,
 "nbformat_minor": 2
}
