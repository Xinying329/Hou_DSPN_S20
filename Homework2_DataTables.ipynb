{
 "cells": [
  {
   "cell_type": "markdown",
   "metadata": {},
   "source": [
    "# Homework 2: Data tables"
   ]
  },
  {
   "cell_type": "markdown",
   "metadata": {},
   "source": [
    "This homework assignment is designed to get you comfortable loading and working with data tables.\n",
    "\n",
    "You will need to download the **unrestricted_trimmed_1_7_2020_10_50_44.csv** file from the [_Homework/_hcp_data](https://github.com/CoAxLab/DataSciencePsychNeuro_CMU85732/tree/master/Homeworks/hcp_data) folder on the class GitHub repository. \n",
    "\n",
    "We will be using this dataset for several assignments in this course. Please download the data dictionary as well to get to konw the different variables. When you are finished, save the notebook as Homework2_DataTables.ipynb, push it to your class GitHub repository (that you made for Homework 1) and email me the link to your notebook via Canvas."
   ]
  },
  {
   "cell_type": "markdown",
   "metadata": {},
   "source": [
    "Set up the working directory to where you downloaded the homework file and load the data table from the unrestricted_trimmed_1_7_2020_10_50_44.csv.csv file"
   ]
  },
  {
   "cell_type": "code",
   "execution_count": 2,
   "metadata": {},
   "outputs": [],
   "source": [
    "setwd(\"~/Desktop/Github/Hou_DSPN_S20\")\n",
    "library(data.table)\n",
    "df <- fread(\"unrestricted_trimmed_1_7_2020_10_50_44.csv\",sep = \",\",header = T)"
   ]
  },
  {
   "cell_type": "markdown",
   "metadata": {},
   "source": [
    "Subset the data such that we are only working with two variables, the total grey matter volumne (FS_Total_GM_Vol) and the total white matter volume (FS_Tot_WM_Vol). Also filter the rows so that we are only looking at 22-25-year-olds, and remove any empty entries (i.e., \"na\"). Use the pipes operator to do this efficiently. Store the output dataset as a new variable called _d1_ and use the _print_ command to view it."
   ]
  },
  {
   "cell_type": "code",
   "execution_count": 1,
   "metadata": {},
   "outputs": [
    {
     "name": "stderr",
     "output_type": "stream",
     "text": [
      "Updating HTML index of packages in '.Library'\n",
      "Making 'packages.html' ... done\n",
      "── Attaching packages ─────────────────────────────────────── tidyverse 1.3.0 ──\n",
      "✔ ggplot2 3.2.1     ✔ purrr   0.3.3\n",
      "✔ tibble  2.1.3     ✔ dplyr   0.8.3\n",
      "✔ tidyr   1.0.2     ✔ stringr 1.4.0\n",
      "✔ readr   1.3.1     ✔ forcats 0.4.0\n",
      "── Conflicts ────────────────────────────────────────── tidyverse_conflicts() ──\n",
      "✖ dplyr::filter() masks stats::filter()\n",
      "✖ dplyr::lag()    masks stats::lag()\n"
     ]
    },
    {
     "name": "stdout",
     "output_type": "stream",
     "text": [
      "  Gender FS_Total_GM_Vol FS_Tot_WM_Vol\n",
      "2      M          665024        416995\n",
      "3      M          717215        457952\n",
      "4      M          772912        478479\n",
      "5      M          726045        468526\n",
      "6      F          628040        391281\n",
      "7      M          813927        521637\n"
     ]
    }
   ],
   "source": [
    "install.packages(\"tidyverse\")\n",
    "library(tidyverse)\n",
    "d1 <- df  %>% \n",
    "    filter(Age == \"22-25\") %>% \n",
    "    select(\"Gender\",\"FS_Total_GM_Vol\",\"FS_Tot_WM_Vol\")  %>%  \n",
    "    drop_na()\n",
    "print(d1 %>% head())"
   ]
  },
  {
   "cell_type": "markdown",
   "metadata": {},
   "source": [
    "Now let's practice transforming the dataset from long format to wide format. Take the _d1_ table and reshape it such that the two brain measures (total grey matter and total white matter) are collapsed into a single column called 'BrainMeasures' and the numeric column will be called 'Volume'. Store the output data table as _d_long_"
   ]
  },
  {
   "cell_type": "code",
   "execution_count": 4,
   "metadata": {},
   "outputs": [
    {
     "name": "stdout",
     "output_type": "stream",
     "text": [
      "  Gender   BrainMeasures Volume\n",
      "1      M FS_Total_GM_Vol 665024\n",
      "2      M FS_Total_GM_Vol 717215\n",
      "3      M FS_Total_GM_Vol 772912\n",
      "4      M FS_Total_GM_Vol 726045\n",
      "5      F FS_Total_GM_Vol 628040\n",
      "6      M FS_Total_GM_Vol 813927\n"
     ]
    }
   ],
   "source": [
    "d1$FS_Total_GM_Vol <- as.numeric(d1$FS_Total_GM_Vol)\n",
    "d1$FS_Tot_WM_Vol <- as.numeric(d1$FS_Tot_WM_Vol)\n",
    "dlong_ <- d1 %>% \n",
    "    gather(BrainMeasures, Volume, FS_Total_GM_Vol:FS_Tot_WM_Vol, factor_key = TRUE)\n",
    "print(dlong_ %>% head())"
   ]
  },
  {
   "cell_type": "markdown",
   "metadata": {},
   "source": [
    "Finally use the _d_long_ table to get summary information separately for the genders, Male and Female. For summary information, please use mean, standard deviation and n(number of observations). Again, use the pipes operator to do this efficiently. Store this output matrix as _d_sum_ and print the output."
   ]
  },
  {
   "cell_type": "code",
   "execution_count": 7,
   "metadata": {},
   "outputs": [
    {
     "name": "stdout",
     "output_type": "stream",
     "text": [
      "# A tibble: 4 x 5\n",
      "# Groups:   Gender [2]\n",
      "  Gender BrainMeasures   Volume_mean Volume_sd Volume_n\n",
      "  <chr>  <fct>                 <dbl>     <dbl>    <int>\n",
      "1 F      FS_Total_GM_Vol     650232.    43212.       84\n",
      "2 F      FS_Tot_WM_Vol       403731.    37698.       84\n",
      "3 M      FS_Total_GM_Vol     738851.    55673.      147\n",
      "4 M      FS_Tot_WM_Vol       468143.    47730.      147\n"
     ]
    }
   ],
   "source": [
    "dsum_ <- dlong_ %>%\n",
    "  group_by(Gender,BrainMeasures)  %>% \n",
    "  summarise(Volume_mean = mean(Volume),\n",
    "           Volume_sd = sd(Volume),\n",
    "            Volume_n = n())\n",
    "print(dsum_) "
   ]
  },
  {
   "cell_type": "markdown",
   "metadata": {},
   "source": [
    "**DUE:** 5pm EST, January 31, 2020"
   ]
  }
 ],
 "metadata": {
  "kernelspec": {
   "display_name": "R",
   "language": "R",
   "name": "ir"
  },
  "language_info": {
   "codemirror_mode": "r",
   "file_extension": ".r",
   "mimetype": "text/x-r-source",
   "name": "R",
   "pygments_lexer": "r",
   "version": "3.6.1"
  }
 },
 "nbformat": 4,
 "nbformat_minor": 2
}
